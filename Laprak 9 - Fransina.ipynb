{
 "cells": [
  {
   "cell_type": "code",
   "execution_count": null,
   "id": "dcc6e6aa",
   "metadata": {},
   "outputs": [],
   "source": [
    "#Soal 1\n",
    "\n",
    "nilai =[20,50,60,70,95,15,40,10,85]\n",
    "nilai.sort(reverse=True)\n",
    "\n",
    "print(\"==========3 Nilai Terbaik dari list==========\")\n",
    "for i in range(3):\n",
    "    print(\"Nilai terbaik Ke-{} = {}\" .format(i+1, nilai[i]))"
   ]
  },
  {
   "cell_type": "code",
   "execution_count": null,
   "id": "e1178ca1",
   "metadata": {},
   "outputs": [],
   "source": [
    "#Soal 2\n",
    "\n",
    "print(\"Inputlah angka dan kata kunci untuk mengakhiri\")\n",
    "print(\"Masukkan Input dalam bentuk tipe data dan dalam bentuk angka!\")\n",
    "\n",
    "data = []\n",
    "ket = True\n",
    "cari = 0\n",
    "\n",
    "while ket == True:\n",
    "    cari = input(\"Masukkan Input: \")\n",
    "\n",
    "    if cari != \"done\":\n",
    "        cari = int(cari)\n",
    "        data.append(cari)\n",
    "    else:\n",
    "        break\n",
    "\n",
    "print(\"Nilai Maksimum: {}\" .format(max(data)))\n",
    "print(\"Nilai Minimum: {}\" .format(min(data)))"
   ]
  },
  {
   "cell_type": "code",
   "execution_count": null,
   "id": "c17ede6e",
   "metadata": {},
   "outputs": [],
   "source": [
    "#Soal 3\n",
    "\n",
    "file = open ('berita.txt','r') \n",
    "kata = []\n",
    "\n",
    "print(\"==================Isi Berita==================\")\n",
    "for i in file:\n",
    "    print(i)\n",
    "    print(\"==================Kata Unik Berita==================\")\n",
    "    a = i.replace('\"',\"\").strip()\n",
    "    b = a.replace('.',\"\")\n",
    "    i = b.split()\n",
    "    for j in range(len(i)):\n",
    "        if i[j] not in kata:\n",
    "            kata.append(i[j])\n",
    "        else:\n",
    "            continue\n",
    "\n",
    "print(kata)"
   ]
  }
 ],
 "metadata": {
  "kernelspec": {
   "display_name": "Python 3 (ipykernel)",
   "language": "python",
   "name": "python3"
  },
  "language_info": {
   "codemirror_mode": {
    "name": "ipython",
    "version": 3
   },
   "file_extension": ".py",
   "mimetype": "text/x-python",
   "name": "python",
   "nbconvert_exporter": "python",
   "pygments_lexer": "ipython3",
   "version": "3.11.5"
  }
 },
 "nbformat": 4,
 "nbformat_minor": 5
}
